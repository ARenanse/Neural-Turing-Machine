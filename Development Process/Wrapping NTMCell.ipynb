{
 "cells": [
  {
   "cell_type": "code",
   "execution_count": 1,
   "metadata": {},
   "outputs": [],
   "source": [
    "import tensorflow as tf\n",
    "import numpy as np\n",
    "import Batch_Focusing,Batch_RWV_Generation,NTMCell\n",
    "import matplotlib.pyplot as plt\n",
    "import tensorboard"
   ]
  },
  {
   "cell_type": "code",
   "execution_count": 2,
   "metadata": {},
   "outputs": [
    {
     "data": {
      "text/plain": [
       "<matplotlib.image.AxesImage at 0x7f05205a3690>"
      ]
     },
     "execution_count": 2,
     "metadata": {},
     "output_type": "execute_result"
    },
    {
     "data": {
      "image/png": "[encoded data removed]",
      "text/plain": [
       "<Figure size 432x288 with 1 Axes>"
      ]
     },
     "metadata": {
      "needs_background": "light"
     },
     "output_type": "display_data"
    }
   ],
   "source": [
    "vector_dim = 8\n",
    "batch_size = 20\n",
    "\n",
    "plt.imshow(tf.one_hot([vector_dim] * batch_size, depth=vector_dim+1))"
   ]
  },
  {
   "cell_type": "markdown",
   "metadata": {},
   "source": [
    "### By subclassing the tf.keras.Model class: in that case, you should define your layers in __init__ and you should implement the model's forward pass in call."
   ]
  },
  {
   "cell_type": "code",
   "execution_count": 3,
   "metadata": {},
   "outputs": [],
   "source": [
    "cell = NTMCell.NTMCell(100, 128, 20, 2, 2, 8)  #Use, 120,10\n",
    "#tf.keras.layers.RNN()"
   ]
  },
  {
   "cell_type": "code",
   "execution_count": 4,
   "metadata": {},
   "outputs": [],
   "source": [
    "batch_size = 36\n",
    "timesteps = 20\n",
    "features = 8\n",
    "inputs = 0.420*tf.random.uniform([batch_size,timesteps,features])"
   ]
  },
  {
   "cell_type": "code",
   "execution_count": 5,
   "metadata": {},
   "outputs": [],
   "source": [
    "init_state = cell.get_initial_state(batch_size = batch_size)"
   ]
  },
  {
   "cell_type": "code",
   "execution_count": 6,
   "metadata": {},
   "outputs": [
    {
     "name": "stdout",
     "output_type": "stream",
     "text": [
      "WARNING:tensorflow:From <ipython-input-6-948ec8939dfb>:1: dynamic_rnn (from tensorflow.python.ops.rnn) is deprecated and will be removed in a future version.\n",
      "Instructions for updating:\n",
      "Please use `keras.layers.RNN(cell)`, which is equivalent to this API\n"
     ]
    }
   ],
   "source": [
    "outputs= tf.compat.v1.nn.dynamic_rnn(cell,inputs=inputs,initial_state=init_state)"
   ]
  },
  {
   "cell_type": "code",
   "execution_count": 19,
   "metadata": {},
   "outputs": [],
   "source": [
    "#NTM = tf.keras.layers.RNN(cell)\n",
    "#Not-Compatible with current implementation till now"
   ]
  },
  {
   "cell_type": "code",
   "execution_count": 7,
   "metadata": {},
   "outputs": [
    {
     "data": {
      "text/plain": [
       "<matplotlib.image.AxesImage at 0x7f0520037f90>"
      ]
     },
     "execution_count": 7,
     "metadata": {},
     "output_type": "execute_result"
    },
    {
     "data": {
      "image/png": "[encoded data removed]",
      "text/plain": [
       "<Figure size 432x288 with 1 Axes>"
      ]
     },
     "metadata": {
      "needs_background": "light"
     },
     "output_type": "display_data"
    }
   ],
   "source": [
    "plt.imshow(tf.transpose(outputs[0][9]))"
   ]
  },
  {
   "cell_type": "code",
   "execution_count": 8,
   "metadata": {},
   "outputs": [
    {
     "data": {
      "text/plain": [
       "<matplotlib.image.AxesImage at 0x7f04dd785d10>"
      ]
     },
     "execution_count": 8,
     "metadata": {},
     "output_type": "execute_result"
    },
    {
     "data": {
      "image/png": "[encoded data removed]",
      "text/plain": [
       "<Figure size 432x288 with 1 Axes>"
      ]
     },
     "metadata": {
      "needs_background": "light"
     },
     "output_type": "display_data"
    }
   ],
   "source": [
    "plt.imshow(tf.transpose(outputs[1]['Memory_Matrix'][9]))"
   ]
  },
  {
   "cell_type": "markdown",
   "metadata": {},
   "source": [
    "### Outputs[0] is of shape [batch_size, timesteps. features]"
   ]
  },
  {
   "cell_type": "markdown",
   "metadata": {},
   "source": [
    "## Any NaNs??"
   ]
  },
  {
   "cell_type": "code",
   "execution_count": 9,
   "metadata": {},
   "outputs": [
    {
     "data": {
      "text/plain": [
       "False"
      ]
     },
     "execution_count": 9,
     "metadata": {},
     "output_type": "execute_result"
    }
   ],
   "source": [
    "np.any(outputs == np.nan)"
   ]
  },
  {
   "cell_type": "markdown",
   "metadata": {},
   "source": [
    "## Figuring out Training"
   ]
  },
  {
   "cell_type": "code",
   "execution_count": 10,
   "metadata": {},
   "outputs": [],
   "source": [
    "inputs_with_eof = tf.concat([inputs,np.zeros([batch_size,timesteps,1])],axis = 2)"
   ]
  },
  {
   "cell_type": "code",
   "execution_count": 11,
   "metadata": {},
   "outputs": [
    {
     "data": {
      "text/plain": [
       "<matplotlib.image.AxesImage at 0x7f04dd76bc50>"
      ]
     },
     "execution_count": 11,
     "metadata": {},
     "output_type": "execute_result"
    },
    {
     "data": {
      "image/png": "[encoded data removed]",
      "text/plain": [
       "<Figure size 432x288 with 1 Axes>"
      ]
     },
     "metadata": {
      "needs_background": "light"
     },
     "output_type": "display_data"
    }
   ],
   "source": [
    "plt.imshow(tf.transpose(inputs_with_eof[0]))"
   ]
  },
  {
   "cell_type": "code",
   "execution_count": 15,
   "metadata": {
    "scrolled": true
   },
   "outputs": [
    {
     "data": {
      "text/plain": [
       "<tf.Tensor: id=115574, shape=(36, 20, 9), dtype=float32, numpy=\n",
       "array([[[2.17241608e-02, 3.00846491e-02, 1.16330862e-01, ...,\n",
       "         1.14176542e-01, 1.84171066e-01, 0.00000000e+00],\n",
       "        [3.78886431e-01, 8.81248116e-02, 3.55656981e-01, ...,\n",
       "         1.17382742e-01, 1.70919850e-01, 0.00000000e+00],\n",
       "        [1.96433440e-01, 3.97932768e-01, 6.82973191e-02, ...,\n",
       "         6.24221042e-02, 1.88460529e-01, 0.00000000e+00],\n",
       "        ...,\n",
       "        [9.36718360e-02, 2.19113752e-01, 3.18390250e-01, ...,\n",
       "         9.17441174e-02, 3.74055475e-01, 0.00000000e+00],\n",
       "        [3.84259224e-01, 1.73786834e-01, 1.34693667e-01, ...,\n",
       "         6.15601838e-02, 2.67745763e-01, 0.00000000e+00],\n",
       "        [2.24852432e-02, 3.39540869e-01, 3.73326093e-01, ...,\n",
       "         5.69553412e-02, 1.96081072e-01, 0.00000000e+00]],\n",
       "\n",
       "       [[3.39365229e-02, 4.07220453e-01, 3.22796464e-01, ...,\n",
       "         2.56338596e-01, 1.49689108e-01, 0.00000000e+00],\n",
       "        [1.44210473e-01, 3.38619709e-01, 3.62566696e-03, ...,\n",
       "         8.00381452e-02, 3.96846175e-01, 0.00000000e+00],\n",
       "        [3.01678687e-01, 3.28398615e-01, 3.74223948e-01, ...,\n",
       "         2.17154101e-01, 1.32068157e-01, 0.00000000e+00],\n",
       "        ...,\n",
       "        [2.00320110e-01, 2.47633874e-01, 3.82087976e-01, ...,\n",
       "         2.68714160e-01, 1.01633884e-01, 0.00000000e+00],\n",
       "        [1.51922286e-01, 2.50610173e-01, 7.52300257e-03, ...,\n",
       "         3.30312946e-03, 1.63320646e-01, 0.00000000e+00],\n",
       "        [1.43047348e-01, 1.14502586e-01, 3.50668252e-01, ...,\n",
       "         2.19466180e-01, 1.58407822e-01, 0.00000000e+00]],\n",
       "\n",
       "       [[8.59701410e-02, 7.10352361e-02, 2.71849513e-01, ...,\n",
       "         1.64455220e-01, 2.87135065e-01, 0.00000000e+00],\n",
       "        [1.31217107e-01, 2.32282564e-01, 4.74785902e-02, ...,\n",
       "         8.39096457e-02, 1.69843942e-01, 0.00000000e+00],\n",
       "        [1.49770468e-01, 3.55516702e-01, 5.41200452e-02, ...,\n",
       "         6.19933233e-02, 2.77815014e-01, 0.00000000e+00],\n",
       "        ...,\n",
       "        [2.69073993e-01, 1.46164715e-01, 1.59475029e-01, ...,\n",
       "         3.51729751e-01, 2.70349324e-01, 0.00000000e+00],\n",
       "        [2.62756199e-01, 3.65190595e-01, 3.79466027e-01, ...,\n",
       "         1.65810972e-01, 1.35365784e-01, 0.00000000e+00],\n",
       "        [4.19858456e-01, 2.06539899e-01, 4.05783564e-01, ...,\n",
       "         1.80319846e-01, 1.46554202e-01, 0.00000000e+00]],\n",
       "\n",
       "       ...,\n",
       "\n",
       "       [[1.47566870e-01, 2.66408145e-01, 1.06379919e-01, ...,\n",
       "         1.66060448e-01, 4.17916507e-01, 0.00000000e+00],\n",
       "        [2.01228894e-02, 1.07923262e-01, 2.25090608e-01, ...,\n",
       "         1.63901523e-01, 1.95535675e-01, 0.00000000e+00],\n",
       "        [2.90605217e-01, 2.29309738e-01, 2.13078171e-01, ...,\n",
       "         7.32868910e-02, 2.35286891e-01, 0.00000000e+00],\n",
       "        ...,\n",
       "        [8.51716027e-02, 1.13635808e-01, 3.27732414e-01, ...,\n",
       "         3.02124739e-01, 1.09952509e-01, 0.00000000e+00],\n",
       "        [2.59907186e-01, 1.64022937e-01, 4.70085517e-02, ...,\n",
       "         3.42291564e-01, 4.05474544e-01, 0.00000000e+00],\n",
       "        [3.69389445e-01, 2.35615984e-01, 8.74574557e-02, ...,\n",
       "         1.83981955e-01, 9.73997414e-02, 0.00000000e+00]],\n",
       "\n",
       "       [[1.09503604e-01, 3.78031433e-01, 1.26771920e-04, ...,\n",
       "         1.34747743e-03, 2.17484489e-01, 0.00000000e+00],\n",
       "        [4.85473387e-02, 2.02939913e-01, 6.73357695e-02, ...,\n",
       "         3.68741274e-01, 1.45046756e-01, 0.00000000e+00],\n",
       "        [1.43024921e-01, 3.13320726e-01, 3.43725383e-01, ...,\n",
       "         4.05697733e-01, 1.35819793e-01, 0.00000000e+00],\n",
       "        ...,\n",
       "        [2.46522024e-01, 1.57601740e-02, 3.42644572e-01, ...,\n",
       "         1.56313479e-01, 1.64741769e-01, 0.00000000e+00],\n",
       "        [2.87921071e-01, 3.18627000e-01, 2.44830132e-01, ...,\n",
       "         2.36593515e-01, 3.25347513e-01, 0.00000000e+00],\n",
       "        [1.31457180e-01, 2.99912930e-01, 1.56281143e-01, ...,\n",
       "         2.49234855e-01, 2.49178529e-01, 0.00000000e+00]],\n",
       "\n",
       "       [[3.59837984e-04, 3.05883378e-01, 1.29958242e-01, ...,\n",
       "         3.29967499e-01, 3.28023314e-01, 0.00000000e+00],\n",
       "        [1.15751728e-01, 2.44530626e-02, 3.05261284e-01, ...,\n",
       "         8.35896581e-02, 2.05012977e-01, 0.00000000e+00],\n",
       "        [2.88695127e-01, 3.92518826e-02, 4.99817319e-02, ...,\n",
       "         3.39352727e-01, 1.90469161e-01, 0.00000000e+00],\n",
       "        ...,\n",
       "        [1.54518902e-01, 3.64256233e-01, 4.94002439e-02, ...,\n",
       "         3.35129082e-01, 5.19143529e-02, 0.00000000e+00],\n",
       "        [1.06311873e-01, 2.41901502e-01, 1.07546903e-01, ...,\n",
       "         4.09894943e-01, 2.55642701e-02, 0.00000000e+00],\n",
       "        [1.91293925e-01, 1.63025841e-01, 1.83557332e-01, ...,\n",
       "         4.12431717e-01, 3.54209810e-01, 0.00000000e+00]]], dtype=float32)>"
      ]
     },
     "execution_count": 15,
     "metadata": {},
     "output_type": "execute_result"
    }
   ],
   "source": [
    "inputs_with_eof"
   ]
  },
  {
   "cell_type": "code",
   "execution_count": 16,
   "metadata": {},
   "outputs": [],
   "source": [
    "cell = NTMCell.NTMCell(100, 128, 20, 2, 2, 9)"
   ]
  },
  {
   "cell_type": "markdown",
   "metadata": {},
   "source": [
    "## 1. Calculating outputs of the batch after just one loop through the whole sequence of timesteps"
   ]
  },
  {
   "cell_type": "code",
   "execution_count": 17,
   "metadata": {},
   "outputs": [],
   "source": [
    "outputs= tf.compat.v1.nn.dynamic_rnn(cell,inputs=inputs_with_eof,initial_state=init_state)"
   ]
  },
  {
   "cell_type": "code",
   "execution_count": 20,
   "metadata": {},
   "outputs": [
    {
     "data": {
      "text/plain": [
       "<matplotlib.image.AxesImage at 0x7f04c3bf5d90>"
      ]
     },
     "execution_count": 20,
     "metadata": {},
     "output_type": "execute_result"
    },
    {
     "data": {
      "image/png": "[encoded data removed]",
      "text/plain": [
       "<Figure size 432x288 with 1 Axes>"
      ]
     },
     "metadata": {
      "needs_background": "light"
     },
     "output_type": "display_data"
    }
   ],
   "source": [
    "plt.imshow(tf.transpose(outputs[0][6]))"
   ]
  },
  {
   "cell_type": "code",
   "execution_count": 21,
   "metadata": {},
   "outputs": [
    {
     "data": {
      "text/plain": [
       "<tf.Tensor: id=231151, shape=(128, 20), dtype=float32, numpy=\n",
       "array([[2.5035517, 2.5166564, 2.5944653, ..., 2.5942328, 2.468671 ,\n",
       "        2.5056176],\n",
       "       [2.5035918, 2.5166614, 2.5943894, ..., 2.5941749, 2.4687753,\n",
       "        2.505624 ],\n",
       "       [2.503577 , 2.5166607, 2.5943851, ..., 2.5941815, 2.468776 ,\n",
       "        2.5057049],\n",
       "       ...,\n",
       "       [2.503577 , 2.5166607, 2.5943851, ..., 2.5941815, 2.468776 ,\n",
       "        2.5057049],\n",
       "       [2.5035517, 2.5166564, 2.5944653, ..., 2.5942328, 2.468671 ,\n",
       "        2.5056176],\n",
       "       [2.5035918, 2.5166614, 2.5943894, ..., 2.5941749, 2.4687753,\n",
       "        2.505624 ]], dtype=float32)>"
      ]
     },
     "execution_count": 21,
     "metadata": {},
     "output_type": "execute_result"
    }
   ],
   "source": [
    "outputs[1]['Memory_Matrix'][7]"
   ]
  },
  {
   "cell_type": "code",
   "execution_count": 22,
   "metadata": {
    "scrolled": true
   },
   "outputs": [
    {
     "data": {
      "text/plain": [
       "<tf.Tensor: id=231129, shape=(36, 20, 9), dtype=float32, numpy=\n",
       "array([[[-0.01009869,  0.3288306 ,  0.48545527, ...,  0.03903244,\n",
       "         -0.5408758 ,  0.42598376],\n",
       "        [-0.5384527 , -0.08446278,  0.345023  , ...,  0.30878916,\n",
       "         -0.7070726 ,  0.38097236],\n",
       "        [-0.39491236, -0.30858982,  0.46172112, ...,  0.24358346,\n",
       "         -0.7312442 ,  0.20060915],\n",
       "        ...,\n",
       "        [ 0.5888653 , -0.36704713,  0.2232882 , ..., -0.58390933,\n",
       "         -0.8623157 , -0.65717196],\n",
       "        [ 0.6069119 , -0.3611609 ,  0.2248079 , ..., -0.58113146,\n",
       "         -0.8628273 , -0.65684634],\n",
       "        [ 0.61055994, -0.35326347,  0.22433566, ..., -0.56956106,\n",
       "         -0.8721191 , -0.6636399 ]],\n",
       "\n",
       "       [[-0.01486165,  0.3291606 ,  0.49242523, ...,  0.04192527,\n",
       "         -0.52936727,  0.43266222],\n",
       "        [-0.5387249 , -0.06428586,  0.34091473, ...,  0.3015941 ,\n",
       "         -0.70233744,  0.38630995],\n",
       "        [-0.39185283, -0.30513412,  0.4559814 , ...,  0.24820791,\n",
       "         -0.7235259 ,  0.20579647],\n",
       "        ...,\n",
       "        [ 0.60163563, -0.36535636,  0.20177932, ..., -0.5707274 ,\n",
       "         -0.88091767, -0.6504325 ],\n",
       "        [ 0.59811276, -0.36238182,  0.20536031, ..., -0.5750304 ,\n",
       "         -0.8746929 , -0.6650445 ],\n",
       "        [ 0.60807276, -0.36208823,  0.20910707, ..., -0.5618745 ,\n",
       "         -0.8762701 , -0.6828538 ]],\n",
       "\n",
       "       [[-0.00232308,  0.3254395 ,  0.4840551 , ...,  0.03289053,\n",
       "         -0.53793883,  0.421728  ],\n",
       "        [-0.53183126, -0.07194286,  0.3521187 , ...,  0.29928124,\n",
       "         -0.7113396 ,  0.38215366],\n",
       "        [-0.40246615, -0.30610454,  0.45987093, ...,  0.24255292,\n",
       "         -0.7336185 ,  0.1979635 ],\n",
       "        ...,\n",
       "        [ 0.5864337 , -0.37406337,  0.20738888, ..., -0.5728342 ,\n",
       "         -0.8721656 , -0.67056155],\n",
       "        [ 0.5970049 , -0.37007782,  0.20967439, ..., -0.56650454,\n",
       "         -0.86247516, -0.6754011 ],\n",
       "        [ 0.6035908 , -0.35654962,  0.21690665, ..., -0.57199806,\n",
       "         -0.8632049 , -0.671993  ]],\n",
       "\n",
       "       ...,\n",
       "\n",
       "       [[-0.0207581 ,  0.33844534,  0.47306553, ...,  0.04189235,\n",
       "         -0.53063655,  0.43251455],\n",
       "        [-0.53714746, -0.08180276,  0.35333204, ...,  0.3024117 ,\n",
       "         -0.7136524 ,  0.37297451],\n",
       "        [-0.4026405 , -0.30803266,  0.46492863, ...,  0.24286015,\n",
       "         -0.73097235,  0.19916026],\n",
       "        ...,\n",
       "        [ 0.58667105, -0.3670952 ,  0.21533097, ..., -0.5789435 ,\n",
       "         -0.87403405, -0.6775302 ],\n",
       "        [ 0.60019064, -0.35192195,  0.22290093, ..., -0.5850296 ,\n",
       "         -0.87168634, -0.67229754],\n",
       "        [ 0.60843366, -0.35818055,  0.21474011, ..., -0.5706974 ,\n",
       "         -0.8774309 , -0.671869  ]],\n",
       "\n",
       "       [[-0.03057892,  0.33877784,  0.48154044, ...,  0.04735297,\n",
       "         -0.5362279 ,  0.4399432 ],\n",
       "        [-0.5428717 , -0.06454717,  0.34529087, ...,  0.3081079 ,\n",
       "         -0.7098784 ,  0.3812569 ],\n",
       "        [-0.40940943, -0.30866963,  0.46211234, ...,  0.25790998,\n",
       "         -0.7228763 ,  0.1879448 ],\n",
       "        ...,\n",
       "        [ 0.59293056, -0.366341  ,  0.21362679, ..., -0.58018845,\n",
       "         -0.87262523, -0.65940964],\n",
       "        [ 0.60381436, -0.36033738,  0.21914873, ..., -0.57337004,\n",
       "         -0.8743601 , -0.66393554],\n",
       "        [ 0.604586  , -0.35925093,  0.21724826, ..., -0.563851  ,\n",
       "         -0.87291443, -0.68082255]],\n",
       "\n",
       "       [[-0.02243345,  0.33195767,  0.48305848, ...,  0.04837395,\n",
       "         -0.52548677,  0.43264967],\n",
       "        [-0.5237649 , -0.08362196,  0.34782463, ...,  0.3033465 ,\n",
       "         -0.7022773 ,  0.3801968 ],\n",
       "        [-0.405797  , -0.30418035,  0.45374244, ...,  0.24407251,\n",
       "         -0.72502846,  0.19656019],\n",
       "        ...,\n",
       "        [ 0.58552015, -0.37493044,  0.20734903, ..., -0.5717502 ,\n",
       "         -0.8736682 , -0.66077185],\n",
       "        [ 0.58923733, -0.36633596,  0.21067268, ..., -0.56697   ,\n",
       "         -0.8830289 , -0.6638432 ],\n",
       "        [ 0.59915066, -0.36481726,  0.22059835, ..., -0.56480503,\n",
       "         -0.87823766, -0.6815827 ]]], dtype=float32)>"
      ]
     },
     "execution_count": 22,
     "metadata": {},
     "output_type": "execute_result"
    }
   ],
   "source": [
    "outputs[0]"
   ]
  },
  {
   "cell_type": "markdown",
   "metadata": {},
   "source": [
    "## 2. Passing an EOF input, to signify end of this sequence"
   ]
  },
  {
   "cell_type": "code",
   "execution_count": 52,
   "metadata": {},
   "outputs": [],
   "source": [
    "outputs_after_first_pass, state_after_first_pass = outputs[0],outputs[1]"
   ]
  },
  {
   "cell_type": "code",
   "execution_count": 59,
   "metadata": {},
   "outputs": [],
   "source": [
    "eof_flag = np.zeros([batch_size,features+1])\n",
    "eof_flag[:,features] = np.ones([batch_size,])"
   ]
  },
  {
   "cell_type": "code",
   "execution_count": 61,
   "metadata": {},
   "outputs": [
    {
     "data": {
      "text/plain": [
       "(array([[0., 0., 0., 0., 0., 0., 0., 0., 1.],\n",
       "        [0., 0., 0., 0., 0., 0., 0., 0., 1.],\n",
       "        [0., 0., 0., 0., 0., 0., 0., 0., 1.],\n",
       "        [0., 0., 0., 0., 0., 0., 0., 0., 1.],\n",
       "        [0., 0., 0., 0., 0., 0., 0., 0., 1.],\n",
       "        [0., 0., 0., 0., 0., 0., 0., 0., 1.],\n",
       "        [0., 0., 0., 0., 0., 0., 0., 0., 1.],\n",
       "        [0., 0., 0., 0., 0., 0., 0., 0., 1.],\n",
       "        [0., 0., 0., 0., 0., 0., 0., 0., 1.],\n",
       "        [0., 0., 0., 0., 0., 0., 0., 0., 1.],\n",
       "        [0., 0., 0., 0., 0., 0., 0., 0., 1.],\n",
       "        [0., 0., 0., 0., 0., 0., 0., 0., 1.],\n",
       "        [0., 0., 0., 0., 0., 0., 0., 0., 1.],\n",
       "        [0., 0., 0., 0., 0., 0., 0., 0., 1.],\n",
       "        [0., 0., 0., 0., 0., 0., 0., 0., 1.],\n",
       "        [0., 0., 0., 0., 0., 0., 0., 0., 1.],\n",
       "        [0., 0., 0., 0., 0., 0., 0., 0., 1.],\n",
       "        [0., 0., 0., 0., 0., 0., 0., 0., 1.],\n",
       "        [0., 0., 0., 0., 0., 0., 0., 0., 1.],\n",
       "        [0., 0., 0., 0., 0., 0., 0., 0., 1.],\n",
       "        [0., 0., 0., 0., 0., 0., 0., 0., 1.],\n",
       "        [0., 0., 0., 0., 0., 0., 0., 0., 1.],\n",
       "        [0., 0., 0., 0., 0., 0., 0., 0., 1.],\n",
       "        [0., 0., 0., 0., 0., 0., 0., 0., 1.],\n",
       "        [0., 0., 0., 0., 0., 0., 0., 0., 1.],\n",
       "        [0., 0., 0., 0., 0., 0., 0., 0., 1.],\n",
       "        [0., 0., 0., 0., 0., 0., 0., 0., 1.],\n",
       "        [0., 0., 0., 0., 0., 0., 0., 0., 1.],\n",
       "        [0., 0., 0., 0., 0., 0., 0., 0., 1.],\n",
       "        [0., 0., 0., 0., 0., 0., 0., 0., 1.],\n",
       "        [0., 0., 0., 0., 0., 0., 0., 0., 1.],\n",
       "        [0., 0., 0., 0., 0., 0., 0., 0., 1.],\n",
       "        [0., 0., 0., 0., 0., 0., 0., 0., 1.],\n",
       "        [0., 0., 0., 0., 0., 0., 0., 0., 1.],\n",
       "        [0., 0., 0., 0., 0., 0., 0., 0., 1.],\n",
       "        [0., 0., 0., 0., 0., 0., 0., 0., 1.]]), (36, 9))"
      ]
     },
     "execution_count": 61,
     "metadata": {},
     "output_type": "execute_result"
    }
   ],
   "source": [
    "eof_flag,eof_flag.shape"
   ]
  },
  {
   "cell_type": "code",
   "execution_count": 62,
   "metadata": {
    "scrolled": true
   },
   "outputs": [
    {
     "data": {
      "text/plain": [
       "{'All_Read_vectors': <tf.Tensor: id=196570, shape=(2, 36, 10), dtype=float32, numpy=\n",
       " array([[[2.608518 , 2.6226451, 2.5740907, 2.5275714, 2.4930089,\n",
       "          2.4424098, 2.5938215, 2.496031 , 2.5675015, 2.5660884],\n",
       "         [2.6086438, 2.6227548, 2.5738251, 2.527971 , 2.4922945,\n",
       "          2.4410138, 2.594384 , 2.4949002, 2.5677478, 2.5649064],\n",
       "         [2.608472 , 2.6230452, 2.5743763, 2.5283453, 2.4929895,\n",
       "          2.4413512, 2.5940034, 2.4955244, 2.5675967, 2.565602 ],\n",
       "         [2.6083086, 2.6227462, 2.5741088, 2.5279684, 2.494151 ,\n",
       "          2.4407215, 2.594287 , 2.495166 , 2.5677674, 2.5649378],\n",
       "         [2.6081834, 2.623214 , 2.5746052, 2.5277224, 2.4930756,\n",
       "          2.4416804, 2.5944145, 2.4951575, 2.5677023, 2.564935 ],\n",
       "         [2.6082258, 2.6228898, 2.5745463, 2.5272932, 2.4937532,\n",
       "          2.440756 , 2.594394 , 2.4954302, 2.5670521, 2.565334 ],\n",
       "         [2.6087945, 2.622823 , 2.5743854, 2.5280886, 2.4936764,\n",
       "          2.4410813, 2.5937073, 2.495716 , 2.5669181, 2.5655282],\n",
       "         [2.608225 , 2.6229293, 2.5740054, 2.5279627, 2.4937074,\n",
       "          2.4406266, 2.593777 , 2.4952784, 2.5682807, 2.5650606],\n",
       "         [2.6092272, 2.6224911, 2.5731783, 2.5284574, 2.4924085,\n",
       "          2.4407358, 2.5940125, 2.4950407, 2.567796 , 2.5650795],\n",
       "         [2.607917 , 2.6226685, 2.574093 , 2.528055 , 2.4939566,\n",
       "          2.441165 , 2.5938323, 2.4948716, 2.5691154, 2.564421 ],\n",
       "         [2.608764 , 2.622614 , 2.5734797, 2.5278575, 2.4924943,\n",
       "          2.4409015, 2.5938125, 2.494823 , 2.5682168, 2.5649645],\n",
       "         [2.6084123, 2.6224506, 2.573893 , 2.5274103, 2.4932642,\n",
       "          2.4417493, 2.5945654, 2.4956129, 2.5669382, 2.5658772],\n",
       "         [2.60828  , 2.6230152, 2.5743115, 2.527522 , 2.4933925,\n",
       "          2.4416835, 2.5941184, 2.4958818, 2.5667272, 2.565854 ],\n",
       "         [2.6086242, 2.6235266, 2.5745203, 2.527799 , 2.4924939,\n",
       "          2.4408238, 2.5942981, 2.4959757, 2.5671296, 2.565261 ],\n",
       "         [2.608626 , 2.6227195, 2.5740714, 2.5274668, 2.4931211,\n",
       "          2.4411702, 2.5941286, 2.4966714, 2.5669386, 2.5653932],\n",
       "         [2.6086783, 2.6232693, 2.5745003, 2.5278258, 2.4925253,\n",
       "          2.441168 , 2.5942695, 2.4957252, 2.567328 , 2.56487  ],\n",
       "         [2.6086059, 2.6223536, 2.5741203, 2.5275621, 2.493324 ,\n",
       "          2.4411774, 2.5942435, 2.4957824, 2.566586 , 2.565534 ],\n",
       "         [2.6082795, 2.622794 , 2.5742366, 2.5280395, 2.4930358,\n",
       "          2.440884 , 2.594402 , 2.495296 , 2.5678167, 2.5650606],\n",
       "         [2.6085656, 2.6228535, 2.5742235, 2.5278847, 2.4928863,\n",
       "          2.4413776, 2.5941384, 2.4950979, 2.567683 , 2.5653164],\n",
       "         [2.608491 , 2.62264  , 2.5740883, 2.5273712, 2.4934497,\n",
       "          2.442105 , 2.594006 , 2.4967604, 2.5671017, 2.5661638],\n",
       "         [2.6078708, 2.622832 , 2.574405 , 2.5284777, 2.494343 ,\n",
       "          2.4408443, 2.5938919, 2.4960043, 2.569513 , 2.564652 ],\n",
       "         [2.6088417, 2.6230614, 2.5741217, 2.5280392, 2.4929788,\n",
       "          2.441473 , 2.593907 , 2.4956996, 2.5676055, 2.5652971],\n",
       "         [2.6086698, 2.623228 , 2.5744963, 2.5279522, 2.4928179,\n",
       "          2.4404619, 2.595071 , 2.494781 , 2.5680742, 2.5646012],\n",
       "         [2.6082544, 2.622603 , 2.5741217, 2.5275507, 2.4933722,\n",
       "          2.442252 , 2.5933921, 2.496156 , 2.5673213, 2.565736 ],\n",
       "         [2.6085098, 2.622184 , 2.5740068, 2.5277536, 2.493379 ,\n",
       "          2.4420435, 2.5938916, 2.4963255, 2.5678353, 2.5657375],\n",
       "         [2.6082773, 2.6227672, 2.5742633, 2.5284028, 2.493413 ,\n",
       "          2.4406927, 2.593978 , 2.4945261, 2.568484 , 2.5645897],\n",
       "         [2.6081374, 2.623225 , 2.5741112, 2.527284 , 2.4925323,\n",
       "          2.441148 , 2.5940526, 2.4963026, 2.5664916, 2.5657744],\n",
       "         [2.60872  , 2.6221364, 2.5736437, 2.5282838, 2.4936762,\n",
       "          2.442569 , 2.593715 , 2.4965463, 2.567628 , 2.5661402],\n",
       "         [2.6079369, 2.6231658, 2.5750155, 2.5278275, 2.493716 ,\n",
       "          2.4412274, 2.5940428, 2.495525 , 2.5676222, 2.5649903],\n",
       "         [2.608634 , 2.6229026, 2.574102 , 2.528037 , 2.4926946,\n",
       "          2.4408627, 2.5939267, 2.4950585, 2.567614 , 2.5647173],\n",
       "         [2.6084206, 2.6228168, 2.5741506, 2.5278573, 2.4933214,\n",
       "          2.4415882, 2.5939443, 2.4950519, 2.5679696, 2.5651076],\n",
       "         [2.6081188, 2.6225746, 2.5736902, 2.5280256, 2.4934478,\n",
       "          2.4415855, 2.5935771, 2.4950671, 2.5686746, 2.5649042],\n",
       "         [2.608824 , 2.6226604, 2.5736437, 2.5277689, 2.4927692,\n",
       "          2.4413564, 2.5941935, 2.4955359, 2.5671587, 2.5654228],\n",
       "         [2.60828  , 2.6226528, 2.573235 , 2.5272584, 2.4921975,\n",
       "          2.4415305, 2.5939856, 2.4956102, 2.567731 , 2.565594 ],\n",
       "         [2.6084526, 2.6228607, 2.5737674, 2.528086 , 2.4932964,\n",
       "          2.4396894, 2.594003 , 2.494583 , 2.5671568, 2.5652502],\n",
       "         [2.6084614, 2.6227653, 2.5741198, 2.5281723, 2.494237 ,\n",
       "          2.4412076, 2.5932019, 2.4961653, 2.567187 , 2.565768 ]],\n",
       " \n",
       "        [[2.608518 , 2.6226447, 2.5740902, 2.5275714, 2.4930089,\n",
       "          2.4424095, 2.5938213, 2.4960308, 2.5675   , 2.5660827],\n",
       "         [2.6086438, 2.6227548, 2.573825 , 2.527971 , 2.492294 ,\n",
       "          2.4410138, 2.594384 , 2.4949002, 2.5677423, 2.564905 ],\n",
       "         [2.6084716, 2.6230438, 2.574375 , 2.528344 , 2.4929838,\n",
       "          2.441351 , 2.5940032, 2.4955225, 2.5675962, 2.5655966],\n",
       "         [2.608308 , 2.622739 , 2.5741086, 2.5279627, 2.494151 ,\n",
       "          2.4407213, 2.5942814, 2.4951646, 2.567766 , 2.5649364],\n",
       "         [2.6081836, 2.623214 , 2.5746055, 2.5277228, 2.4930758,\n",
       "          2.441682 , 2.5944147, 2.4951577, 2.5677025, 2.5649354],\n",
       "         [2.6082256, 2.6228898, 2.574546 , 2.5272932, 2.4937532,\n",
       "          2.440756 , 2.594394 , 2.4954302, 2.5670521, 2.565334 ],\n",
       "         [2.608793 , 2.6228225, 2.57438  , 2.5280886, 2.4936762,\n",
       "          2.4410813, 2.593707 , 2.4957104, 2.5669127, 2.565528 ],\n",
       "         [2.6082253, 2.6229308, 2.5740054, 2.5279627, 2.4937077,\n",
       "          2.4406266, 2.593777 , 2.4952784, 2.5682807, 2.5650606],\n",
       "         [2.609227 , 2.6224906, 2.573178 , 2.528457 , 2.492408 ,\n",
       "          2.4407299, 2.594012 , 2.4950407, 2.567796 , 2.565079 ],\n",
       "         [2.607917 , 2.6226685, 2.574093 , 2.5280547, 2.4939566,\n",
       "          2.441165 , 2.5938323, 2.4948716, 2.5691154, 2.564421 ],\n",
       "         [2.608764 , 2.6226137, 2.5734797, 2.5278575, 2.4924939,\n",
       "          2.4409013, 2.5938122, 2.4948227, 2.5682154, 2.5649645],\n",
       "         [2.6084125, 2.6224506, 2.5738933, 2.5274143, 2.4932642,\n",
       "          2.4417493, 2.5945656, 2.4956129, 2.5669384, 2.5658774],\n",
       "         [2.60828  , 2.6230152, 2.574317 , 2.5275226, 2.4933927,\n",
       "          2.4416852, 2.5941184, 2.495882 , 2.5667272, 2.565854 ],\n",
       "         [2.6086242, 2.6235268, 2.5745208, 2.5277991, 2.4924939,\n",
       "          2.4408243, 2.5942986, 2.4959757, 2.5671299, 2.5652614],\n",
       "         [2.6086257, 2.622718 , 2.5740714, 2.5274653, 2.4931211,\n",
       "          2.4411685, 2.5941284, 2.4966714, 2.5669384, 2.5653932],\n",
       "         [2.6086786, 2.6232693, 2.5745003, 2.5278258, 2.4925256,\n",
       "          2.441168 , 2.59427  , 2.4957254, 2.5673285, 2.56487  ],\n",
       "         [2.6086125, 2.6223538, 2.5741203, 2.5275624, 2.493324 ,\n",
       "          2.4411788, 2.5942502, 2.4957824, 2.566586 , 2.5655344],\n",
       "         [2.6082795, 2.622794 , 2.5742369, 2.5280395, 2.4930358,\n",
       "          2.440884 , 2.594402 , 2.495296 , 2.567817 , 2.5650606],\n",
       "         [2.6085656, 2.6228561, 2.5742235, 2.5278852, 2.4928865,\n",
       "          2.441379 , 2.5941384, 2.4950984, 2.5676844, 2.5653167],\n",
       "         [2.6084895, 2.62264  , 2.574088 , 2.5273712, 2.4934494,\n",
       "          2.442103 , 2.5940058, 2.49676  , 2.5671015, 2.5661635],\n",
       "         [2.6078691, 2.622825 , 2.5744033, 2.5284772, 2.494337 ,\n",
       "          2.4408438, 2.5938914, 2.4960027, 2.5695126, 2.5646503],\n",
       "         [2.6088417, 2.6230614, 2.5741217, 2.5280392, 2.4929788,\n",
       "          2.441473 , 2.593907 , 2.4956996, 2.5676055, 2.5652971],\n",
       "         [2.6086702, 2.6232326, 2.5745   , 2.5279534, 2.492818 ,\n",
       "          2.4404635, 2.5950725, 2.4947827, 2.56808  , 2.5646029],\n",
       "         [2.6082544, 2.622603 , 2.5741217, 2.5275507, 2.4933722,\n",
       "          2.442252 , 2.5933921, 2.496156 , 2.5673213, 2.565736 ],\n",
       "         [2.6085098, 2.622184 , 2.5740073, 2.5277536, 2.493379 ,\n",
       "          2.4420435, 2.5938916, 2.4963255, 2.5678358, 2.5657375],\n",
       "         [2.6082776, 2.6227672, 2.5742633, 2.528403 , 2.493413 ,\n",
       "          2.440693 , 2.593978 , 2.4945261, 2.5684855, 2.56459  ],\n",
       "         [2.6081374, 2.6232255, 2.5741112, 2.5272844, 2.4925325,\n",
       "          2.4411483, 2.5940526, 2.4963026, 2.5664916, 2.5657744],\n",
       "         [2.6087196, 2.6221359, 2.5736423, 2.5282834, 2.4936705,\n",
       "          2.4425673, 2.5937092, 2.4965458, 2.5676274, 2.5661397],\n",
       "         [2.607937 , 2.6231663, 2.575017 , 2.5278275, 2.493716 ,\n",
       "          2.441228 , 2.5940428, 2.495525 , 2.5676224, 2.5649905],\n",
       "         [2.608634 , 2.6229026, 2.574102 , 2.528037 , 2.4926946,\n",
       "          2.4408627, 2.5939267, 2.4950585, 2.567614 , 2.5647173],\n",
       "         [2.6084208, 2.6228168, 2.5741508, 2.5278575, 2.4933214,\n",
       "          2.4415941, 2.5939457, 2.495052 , 2.5679705, 2.565108 ],\n",
       "         [2.608119 , 2.622575 , 2.5736902, 2.5280259, 2.493448 ,\n",
       "          2.4415858, 2.5935774, 2.4950674, 2.5686748, 2.5649045],\n",
       "         [2.608824 , 2.6226604, 2.5736423, 2.5277686, 2.4927692,\n",
       "          2.4413512, 2.5941935, 2.4955301, 2.5671587, 2.5654223],\n",
       "         [2.6082804, 2.6226532, 2.5732353, 2.5272589, 2.4921987,\n",
       "          2.4415307, 2.5939858, 2.4956107, 2.5677311, 2.5655944],\n",
       "         [2.608452 , 2.6228607, 2.5737672, 2.528086 , 2.4932964,\n",
       "          2.4396892, 2.594003 , 2.4945824, 2.5671568, 2.5652502],\n",
       "         [2.6084623, 2.6227653, 2.5741203, 2.5281723, 2.494237 ,\n",
       "          2.441208 , 2.5932024, 2.4961655, 2.5671875, 2.5657682]]],\n",
       "       dtype=float32)>,\n",
       " 'controller_state': [<tf.Tensor: id=191712, shape=(36, 100), dtype=float32, numpy=\n",
       "  array([[-0.03681119, -0.3857886 ,  0.20754594, ..., -0.3226498 ,\n",
       "          -0.01286164, -0.14776352],\n",
       "         [-0.04209503, -0.3784141 ,  0.20968139, ..., -0.33731914,\n",
       "          -0.01271146, -0.14736769],\n",
       "         [-0.04919904, -0.37086067,  0.2099488 , ..., -0.33961225,\n",
       "          -0.01244785, -0.145114  ],\n",
       "         ...,\n",
       "         [-0.0559771 , -0.36637357,  0.21078646, ..., -0.30959547,\n",
       "          -0.01409681, -0.14491403],\n",
       "         [-0.03457138, -0.3819284 ,  0.20717363, ..., -0.32746196,\n",
       "          -0.01354327, -0.14550388],\n",
       "         [-0.0529957 , -0.37142083,  0.21463962, ..., -0.34021172,\n",
       "          -0.01086914, -0.14846812]], dtype=float32)>,\n",
       "  <tf.Tensor: id=191709, shape=(36, 100), dtype=float32, numpy=\n",
       "  array([[-0.06912581, -1.931817  ,  1.241683  , ..., -0.45186925,\n",
       "          -0.08495802, -1.24664   ],\n",
       "         [-0.07893075, -1.9583446 ,  1.2410569 , ..., -0.47882587,\n",
       "          -0.08298944, -1.2604388 ],\n",
       "         [-0.09052005, -1.9298276 ,  1.2635577 , ..., -0.48304334,\n",
       "          -0.08407672, -1.2606187 ],\n",
       "         ...,\n",
       "         [-0.10296677, -1.9622982 ,  1.2267208 , ..., -0.44016996,\n",
       "          -0.08945324, -1.2131631 ],\n",
       "         [-0.06529579, -1.9544244 ,  1.2698085 , ..., -0.4616785 ,\n",
       "          -0.09358823, -1.2549372 ],\n",
       "         [-0.09857669, -1.9693142 ,  1.2585824 , ..., -0.4830704 ,\n",
       "          -0.07737022, -1.2354372 ]], dtype=float32)>],\n",
       " 'Memory_Matrix': <tf.Tensor: id=196568, shape=(36, 120, 10), dtype=float32, numpy=\n",
       " array([[[2.613006 , 2.6294243, 2.5780983, ..., 2.4952352, 2.5704598,\n",
       "          2.5686924],\n",
       "         [2.613006 , 2.6294243, 2.5780983, ..., 2.4952352, 2.5704598,\n",
       "          2.5686924],\n",
       "         [2.613006 , 2.6294243, 2.5780983, ..., 2.4952352, 2.5704598,\n",
       "          2.5686924],\n",
       "         ...,\n",
       "         [2.613006 , 2.6294243, 2.5780983, ..., 2.4952352, 2.5704598,\n",
       "          2.5686924],\n",
       "         [2.613006 , 2.6294243, 2.5780983, ..., 2.4952352, 2.5704598,\n",
       "          2.5686924],\n",
       "         [2.613006 , 2.6294243, 2.5780983, ..., 2.4952352, 2.5704598,\n",
       "          2.5686924]],\n",
       " \n",
       "        [[2.6131227, 2.6295543, 2.577802 , ..., 2.4941556, 2.5705853,\n",
       "          2.5675676],\n",
       "         [2.6131227, 2.6295543, 2.577802 , ..., 2.4941556, 2.5705853,\n",
       "          2.5675676],\n",
       "         [2.6131227, 2.6295543, 2.577802 , ..., 2.4941556, 2.5705853,\n",
       "          2.5675676],\n",
       "         ...,\n",
       "         [2.6131227, 2.6295543, 2.577802 , ..., 2.4941556, 2.5705853,\n",
       "          2.5675676],\n",
       "         [2.6131227, 2.6295543, 2.577802 , ..., 2.4941556, 2.5705853,\n",
       "          2.5675676],\n",
       "         [2.6131227, 2.6295543, 2.577802 , ..., 2.4941556, 2.5705853,\n",
       "          2.5675676]],\n",
       " \n",
       "        [[2.6129963, 2.6298892, 2.5784345, ..., 2.4947395, 2.5704703,\n",
       "          2.568258 ],\n",
       "         [2.6129963, 2.6298892, 2.5784345, ..., 2.4947395, 2.5704703,\n",
       "          2.568258 ],\n",
       "         [2.6129963, 2.6298892, 2.5784345, ..., 2.4947395, 2.5704703,\n",
       "          2.568258 ],\n",
       "         ...,\n",
       "         [2.6129963, 2.6298892, 2.5784345, ..., 2.4947395, 2.5704703,\n",
       "          2.568258 ],\n",
       "         [2.6129963, 2.6298892, 2.5784345, ..., 2.4947395, 2.5704703,\n",
       "          2.568258 ],\n",
       "         [2.6129963, 2.6298892, 2.5784345, ..., 2.4947395, 2.5704703,\n",
       "          2.568258 ]],\n",
       " \n",
       "        ...,\n",
       " \n",
       "        [[2.612818 , 2.6294043, 2.5771477, ..., 2.4948857, 2.5705323,\n",
       "          2.5683057],\n",
       "         [2.612818 , 2.6294043, 2.5771477, ..., 2.4948857, 2.5705323,\n",
       "          2.5683057],\n",
       "         [2.612818 , 2.6294043, 2.5771477, ..., 2.4948857, 2.5705323,\n",
       "          2.5683057],\n",
       "         ...,\n",
       "         [2.612818 , 2.6294043, 2.5771477, ..., 2.4948857, 2.5705323,\n",
       "          2.5683057],\n",
       "         [2.612818 , 2.6294043, 2.5771477, ..., 2.4948857, 2.5705323,\n",
       "          2.5683057],\n",
       "         [2.612818 , 2.6294043, 2.5771477, ..., 2.4948857, 2.5705323,\n",
       "          2.5683057]],\n",
       " \n",
       "        [[2.6128793, 2.6296825, 2.577749 , ..., 2.49375  , 2.570032 ,\n",
       "          2.567879 ],\n",
       "         [2.6128793, 2.6296825, 2.577749 , ..., 2.49375  , 2.570032 ,\n",
       "          2.567879 ],\n",
       "         [2.6128793, 2.6296825, 2.577749 , ..., 2.49375  , 2.570032 ,\n",
       "          2.567879 ],\n",
       "         ...,\n",
       "         [2.6128793, 2.6296825, 2.577749 , ..., 2.49375  , 2.570032 ,\n",
       "          2.567879 ],\n",
       "         [2.6128793, 2.6296825, 2.577749 , ..., 2.49375  , 2.570032 ,\n",
       "          2.567879 ],\n",
       "         [2.6128793, 2.6296825, 2.577749 , ..., 2.49375  , 2.570032 ,\n",
       "          2.567879 ]],\n",
       " \n",
       "        [[2.6129673, 2.6295984, 2.5781956, ..., 2.495549 , 2.5700085,\n",
       "          2.568535 ],\n",
       "         [2.6129673, 2.6295984, 2.5781956, ..., 2.495549 , 2.5700085,\n",
       "          2.568535 ],\n",
       "         [2.6129673, 2.6295984, 2.5781956, ..., 2.495549 , 2.5700085,\n",
       "          2.568535 ],\n",
       "         ...,\n",
       "         [2.6129673, 2.6295984, 2.5781956, ..., 2.495549 , 2.5700085,\n",
       "          2.568535 ],\n",
       "         [2.6129673, 2.6295984, 2.5781956, ..., 2.495549 , 2.5700085,\n",
       "          2.568535 ],\n",
       "         [2.6129673, 2.6295984, 2.5781956, ..., 2.495549 , 2.5700085,\n",
       "          2.568535 ]]], dtype=float32)>,\n",
       " 'All_Weight_vectors': <tf.Tensor: id=196569, shape=(4, 36, 120), dtype=float32, numpy=\n",
       " array([[[0.00833333, 0.00833333, 0.00833333, ..., 0.00833333,\n",
       "          0.00833333, 0.00833333],\n",
       "         [0.00833334, 0.00833334, 0.00833334, ..., 0.00833334,\n",
       "          0.00833334, 0.00833334],\n",
       "         [0.00833334, 0.00833334, 0.00833334, ..., 0.00833334,\n",
       "          0.00833334, 0.00833334],\n",
       "         ...,\n",
       "         [0.00833333, 0.00833333, 0.00833333, ..., 0.00833333,\n",
       "          0.00833333, 0.00833333],\n",
       "         [0.00833333, 0.00833333, 0.00833333, ..., 0.00833333,\n",
       "          0.00833333, 0.00833333],\n",
       "         [0.00833333, 0.00833333, 0.00833333, ..., 0.00833333,\n",
       "          0.00833333, 0.00833333]],\n",
       " \n",
       "        [[0.00833333, 0.00833333, 0.00833333, ..., 0.00833333,\n",
       "          0.00833333, 0.00833333],\n",
       "         [0.00833333, 0.00833333, 0.00833333, ..., 0.00833333,\n",
       "          0.00833333, 0.00833333],\n",
       "         [0.00833333, 0.00833333, 0.00833333, ..., 0.00833333,\n",
       "          0.00833333, 0.00833333],\n",
       "         ...,\n",
       "         [0.00833334, 0.00833334, 0.00833333, ..., 0.00833334,\n",
       "          0.00833334, 0.00833333],\n",
       "         [0.00833333, 0.00833333, 0.00833333, ..., 0.00833333,\n",
       "          0.00833333, 0.00833333],\n",
       "         [0.00833333, 0.00833333, 0.00833333, ..., 0.00833333,\n",
       "          0.00833333, 0.00833333]],\n",
       " \n",
       "        [[0.00833333, 0.00833333, 0.00833333, ..., 0.00833333,\n",
       "          0.00833333, 0.00833333],\n",
       "         [0.00833333, 0.00833333, 0.00833333, ..., 0.00833333,\n",
       "          0.00833333, 0.00833333],\n",
       "         [0.00833333, 0.00833333, 0.00833333, ..., 0.00833333,\n",
       "          0.00833333, 0.00833333],\n",
       "         ...,\n",
       "         [0.00833333, 0.00833333, 0.00833333, ..., 0.00833333,\n",
       "          0.00833333, 0.00833333],\n",
       "         [0.00833333, 0.00833333, 0.00833333, ..., 0.00833333,\n",
       "          0.00833333, 0.00833333],\n",
       "         [0.00833333, 0.00833333, 0.00833333, ..., 0.00833333,\n",
       "          0.00833333, 0.00833333]],\n",
       " \n",
       "        [[0.00833333, 0.00833333, 0.00833333, ..., 0.00833333,\n",
       "          0.00833333, 0.00833333],\n",
       "         [0.00833333, 0.00833333, 0.00833333, ..., 0.00833333,\n",
       "          0.00833333, 0.00833333],\n",
       "         [0.00833333, 0.00833333, 0.00833333, ..., 0.00833333,\n",
       "          0.00833333, 0.00833333],\n",
       "         ...,\n",
       "         [0.00833333, 0.00833333, 0.00833334, ..., 0.00833333,\n",
       "          0.00833333, 0.00833334],\n",
       "         [0.00833333, 0.00833333, 0.00833333, ..., 0.00833333,\n",
       "          0.00833333, 0.00833333],\n",
       "         [0.00833334, 0.00833334, 0.00833334, ..., 0.00833334,\n",
       "          0.00833334, 0.00833334]]], dtype=float32)>}"
      ]
     },
     "execution_count": 62,
     "metadata": {},
     "output_type": "execute_result"
    }
   ],
   "source": [
    "state_after_first_pass"
   ]
  },
  {
   "cell_type": "code",
   "execution_count": 63,
   "metadata": {},
   "outputs": [
    {
     "name": "stdout",
     "output_type": "stream",
     "text": [
      "WARNING:tensorflow:Layer ntm_cell_1 is casting an input tensor from dtype float64 to the layer's dtype of float32, which is new behavior in TensorFlow 2.  The layer has dtype float32 because it's dtype defaults to floatx.\n",
      "\n",
      "If you intended to run this layer in float32, you can safely ignore this warning. If in doubt, this warning is likely only an issue if you are porting a TensorFlow 1.X model to TensorFlow 2.\n",
      "\n",
      "To change all layers to have dtype float64 by default, call `tf.keras.backend.set_floatx('float64')`. To change just this layer, pass dtype='float64' to the layer constructor. If you are the author of this layer, you can disable autocasting by passing autocast=False to the base Layer constructor.\n",
      "\n"
     ]
    }
   ],
   "source": [
    "output_after_eof_flag, states_after_eof_flag = cell(eof_flag,state_after_first_pass)"
   ]
  },
  {
   "cell_type": "code",
   "execution_count": 66,
   "metadata": {},
   "outputs": [
    {
     "data": {
      "text/plain": [
       "<matplotlib.image.AxesImage at 0x7f8ed4f68350>"
      ]
     },
     "execution_count": 66,
     "metadata": {},
     "output_type": "execute_result"
    },
    {
     "data": {
      "image/png": "[encoded data removed]",
      "text/plain": [
       "<Figure size 432x288 with 1 Axes>"
      ]
     },
     "metadata": {
      "needs_background": "light"
     },
     "output_type": "display_data"
    }
   ],
   "source": [
    "plt.imshow(tf.transpose(output_after_eof_flag))"
   ]
  },
  {
   "cell_type": "markdown",
   "metadata": {},
   "source": [
    "### The above shows the individual timestep after inputting a eof vector to each input of the batch"
   ]
  },
  {
   "cell_type": "markdown",
   "metadata": {},
   "source": [
    "## 3. Now we will input the Empty area of the time sequence"
   ]
  },
  {
   "cell_type": "code",
   "execution_count": 73,
   "metadata": {},
   "outputs": [],
   "source": [
    "final_inputs = np.zeros([batch_size,timesteps,features+1])"
   ]
  },
  {
   "cell_type": "code",
   "execution_count": 74,
   "metadata": {},
   "outputs": [],
   "source": [
    "final_outputs= tf.compat.v1.nn.dynamic_rnn(cell,inputs=final_inputs,initial_state=states_after_eof_flag)"
   ]
  },
  {
   "cell_type": "code",
   "execution_count": 78,
   "metadata": {},
   "outputs": [
    {
     "data": {
      "text/plain": [
       "<matplotlib.image.AxesImage at 0x7f8ed4e33290>"
      ]
     },
     "execution_count": 78,
     "metadata": {},
     "output_type": "execute_result"
    },
    {
     "data": {
      "image/png": "[encoded data removed]",
      "text/plain": [
       "<Figure size 432x288 with 1 Axes>"
      ]
     },
     "metadata": {
      "needs_background": "light"
     },
     "output_type": "display_data"
    }
   ],
   "source": [
    "plt.imshow(tf.transpose(final_outputs[0][0]))"
   ]
  },
  {
   "cell_type": "code",
   "execution_count": 80,
   "metadata": {},
   "outputs": [
    {
     "data": {
      "text/plain": [
       "<matplotlib.image.AxesImage at 0x7f8ed4d49690>"
      ]
     },
     "execution_count": 80,
     "metadata": {},
     "output_type": "execute_result"
    },
    {
     "data": {
      "image/png": "[encoded data removed]",
      "text/plain": [
       "<Figure size 432x288 with 1 Axes>"
      ]
     },
     "metadata": {
      "needs_background": "light"
     },
     "output_type": "display_data"
    }
   ],
   "source": [
    "plt.imshow(tf.transpose(inputs[0]))"
   ]
  },
  {
   "cell_type": "code",
   "execution_count": 86,
   "metadata": {},
   "outputs": [
    {
     "data": {
      "text/plain": [
       "<matplotlib.image.AxesImage at 0x7f8ed4cb3510>"
      ]
     },
     "execution_count": 86,
     "metadata": {},
     "output_type": "execute_result"
    },
    {
     "data": {
      "image/png": "[encoded data removed]",
      "text/plain": [
       "<Figure size 432x288 with 1 Axes>"
      ]
     },
     "metadata": {
      "needs_background": "light"
     },
     "output_type": "display_data"
    }
   ],
   "source": [
    "plt.imshow(tf.transpose(final_outputs[0][:,:,:features][0]))"
   ]
  },
  {
   "cell_type": "markdown",
   "metadata": {},
   "source": [
    "## Defining above tasks as function"
   ]
  },
  {
   "cell_type": "code",
   "execution_count": 113,
   "metadata": {},
   "outputs": [],
   "source": [
    "def Model(inputs , init_state = None,rnn_size = 100, memory_rows = 120, memory_columns = 10, n_RH = 2, n_WH = 2, batch_size = 36, timesteps = 20, features = 8):\n",
    "    \n",
    "    \n",
    "    inputs_with_eof = tf.concat([inputs,np.zeros([batch_size,timesteps,1])],axis = 2)\n",
    "    cell = NTMCell.NTMCell(rnn_size, memory_rows, memory_columns, n_RH, n_WH, features+1)\n",
    "    \n",
    "    if init_state == None:\n",
    "        init_state = cell.get_initial_state(batch_size = batch_size)\n",
    "        \n",
    "    outputs= tf.compat.v1.nn.dynamic_rnn(cell,inputs=inputs_with_eof,initial_state=init_state)\n",
    "    outputs_after_first_pass, state_after_first_pass = outputs[0],outputs[1]\n",
    "    eof_flag = np.zeros([batch_size,features+1])\n",
    "    eof_flag[:,features] = np.ones([batch_size,])\n",
    "    output_after_eof_flag, states_after_eof_flag = cell(eof_flag,state_after_first_pass)\n",
    "    final_inputs = np.zeros([batch_size,timesteps,features+1])\n",
    "    final_outputs= tf.compat.v1.nn.dynamic_rnn(cell,inputs=final_inputs,initial_state=states_after_eof_flag)\n",
    "    return (final_outputs[0][:,:,:features], final_outputs[1])"
   ]
  },
  {
   "cell_type": "code",
   "execution_count": 104,
   "metadata": {},
   "outputs": [
    {
     "name": "stdout",
     "output_type": "stream",
     "text": [
      "WARNING:tensorflow:Layer ntm_cell_5 is casting an input tensor from dtype float64 to the layer's dtype of float32, which is new behavior in TensorFlow 2.  The layer has dtype float32 because it's dtype defaults to floatx.\n",
      "\n",
      "If you intended to run this layer in float32, you can safely ignore this warning. If in doubt, this warning is likely only an issue if you are porting a TensorFlow 1.X model to TensorFlow 2.\n",
      "\n",
      "To change all layers to have dtype float64 by default, call `tf.keras.backend.set_floatx('float64')`. To change just this layer, pass dtype='float64' to the layer constructor. If you are the author of this layer, you can disable autocasting by passing autocast=False to the base Layer constructor.\n",
      "\n"
     ]
    }
   ],
   "source": [
    "ops = Model(inputs)"
   ]
  },
  {
   "cell_type": "code",
   "execution_count": 112,
   "metadata": {},
   "outputs": [
    {
     "data": {
      "text/plain": [
       "<matplotlib.image.AxesImage at 0x7f8ed4a704d0>"
      ]
     },
     "execution_count": 112,
     "metadata": {},
     "output_type": "execute_result"
    },
    {
     "data": {
      "image/png": "[encoded data removed]",
      "text/plain": [
       "<Figure size 432x288 with 1 Axes>"
      ]
     },
     "metadata": {
      "needs_background": "light"
     },
     "output_type": "display_data"
    }
   ],
   "source": [
    "plt.imshow(tf.transpose(ops[0][35]))"
   ]
  },
  {
   "cell_type": "code",
   "execution_count": 114,
   "metadata": {},
   "outputs": [
    {
     "name": "stdout",
     "output_type": "stream",
     "text": [
      "WARNING:tensorflow:Layer ntm_cell_6 is casting an input tensor from dtype float64 to the layer's dtype of float32, which is new behavior in TensorFlow 2.  The layer has dtype float32 because it's dtype defaults to floatx.\n",
      "\n",
      "If you intended to run this layer in float32, you can safely ignore this warning. If in doubt, this warning is likely only an issue if you are porting a TensorFlow 1.X model to TensorFlow 2.\n",
      "\n",
      "To change all layers to have dtype float64 by default, call `tf.keras.backend.set_floatx('float64')`. To change just this layer, pass dtype='float64' to the layer constructor. If you are the author of this layer, you can disable autocasting by passing autocast=False to the base Layer constructor.\n",
      "\n"
     ]
    }
   ],
   "source": [
    "ops2 = Model(ops[0],ops[1])"
   ]
  },
  {
   "cell_type": "code",
   "execution_count": 115,
   "metadata": {},
   "outputs": [
    {
     "data": {
      "text/plain": [
       "<matplotlib.image.AxesImage at 0x7f8ed40357d0>"
      ]
     },
     "execution_count": 115,
     "metadata": {},
     "output_type": "execute_result"
    },
    {
     "data": {
      "image/png": "[encoded data removed]",
      "text/plain": [
       "<Figure size 432x288 with 1 Axes>"
      ]
     },
     "metadata": {
      "needs_background": "light"
     },
     "output_type": "display_data"
    }
   ],
   "source": [
    "plt.imshow(tf.transpose(ops2[0][35]))"
   ]
  },
  {
   "cell_type": "code",
   "execution_count": 118,
   "metadata": {
    "scrolled": true
   },
   "outputs": [
    {
     "name": "stdout",
     "output_type": "stream",
     "text": [
      "WARNING:tensorflow:Layer ntm_cell_16 is casting an input tensor from dtype float64 to the layer's dtype of float32, which is new behavior in TensorFlow 2.  The layer has dtype float32 because it's dtype defaults to floatx.\n",
      "\n",
      "If you intended to run this layer in float32, you can safely ignore this warning. If in doubt, this warning is likely only an issue if you are porting a TensorFlow 1.X model to TensorFlow 2.\n",
      "\n",
      "To change all layers to have dtype float64 by default, call `tf.keras.backend.set_floatx('float64')`. To change just this layer, pass dtype='float64' to the layer constructor. If you are the author of this layer, you can disable autocasting by passing autocast=False to the base Layer constructor.\n",
      "\n",
      "WARNING:tensorflow:Layer ntm_cell_17 is casting an input tensor from dtype float64 to the layer's dtype of float32, which is new behavior in TensorFlow 2.  The layer has dtype float32 because it's dtype defaults to floatx.\n",
      "\n",
      "If you intended to run this layer in float32, you can safely ignore this warning. If in doubt, this warning is likely only an issue if you are porting a TensorFlow 1.X model to TensorFlow 2.\n",
      "\n",
      "To change all layers to have dtype float64 by default, call `tf.keras.backend.set_floatx('float64')`. To change just this layer, pass dtype='float64' to the layer constructor. If you are the author of this layer, you can disable autocasting by passing autocast=False to the base Layer constructor.\n",
      "\n",
      "WARNING:tensorflow:Layer ntm_cell_18 is casting an input tensor from dtype float64 to the layer's dtype of float32, which is new behavior in TensorFlow 2.  The layer has dtype float32 because it's dtype defaults to floatx.\n",
      "\n",
      "If you intended to run this layer in float32, you can safely ignore this warning. If in doubt, this warning is likely only an issue if you are porting a TensorFlow 1.X model to TensorFlow 2.\n",
      "\n",
      "To change all layers to have dtype float64 by default, call `tf.keras.backend.set_floatx('float64')`. To change just this layer, pass dtype='float64' to the layer constructor. If you are the author of this layer, you can disable autocasting by passing autocast=False to the base Layer constructor.\n",
      "\n",
      "WARNING:tensorflow:Layer ntm_cell_19 is casting an input tensor from dtype float64 to the layer's dtype of float32, which is new behavior in TensorFlow 2.  The layer has dtype float32 because it's dtype defaults to floatx.\n",
      "\n",
      "If you intended to run this layer in float32, you can safely ignore this warning. If in doubt, this warning is likely only an issue if you are porting a TensorFlow 1.X model to TensorFlow 2.\n",
      "\n",
      "To change all layers to have dtype float64 by default, call `tf.keras.backend.set_floatx('float64')`. To change just this layer, pass dtype='float64' to the layer constructor. If you are the author of this layer, you can disable autocasting by passing autocast=False to the base Layer constructor.\n",
      "\n",
      "WARNING:tensorflow:Layer ntm_cell_20 is casting an input tensor from dtype float64 to the layer's dtype of float32, which is new behavior in TensorFlow 2.  The layer has dtype float32 because it's dtype defaults to floatx.\n",
      "\n",
      "If you intended to run this layer in float32, you can safely ignore this warning. If in doubt, this warning is likely only an issue if you are porting a TensorFlow 1.X model to TensorFlow 2.\n",
      "\n",
      "To change all layers to have dtype float64 by default, call `tf.keras.backend.set_floatx('float64')`. To change just this layer, pass dtype='float64' to the layer constructor. If you are the author of this layer, you can disable autocasting by passing autocast=False to the base Layer constructor.\n",
      "\n",
      "WARNING:tensorflow:Layer ntm_cell_21 is casting an input tensor from dtype float64 to the layer's dtype of float32, which is new behavior in TensorFlow 2.  The layer has dtype float32 because it's dtype defaults to floatx.\n",
      "\n",
      "If you intended to run this layer in float32, you can safely ignore this warning. If in doubt, this warning is likely only an issue if you are porting a TensorFlow 1.X model to TensorFlow 2.\n",
      "\n",
      "To change all layers to have dtype float64 by default, call `tf.keras.backend.set_floatx('float64')`. To change just this layer, pass dtype='float64' to the layer constructor. If you are the author of this layer, you can disable autocasting by passing autocast=False to the base Layer constructor.\n",
      "\n",
      "WARNING:tensorflow:Layer ntm_cell_22 is casting an input tensor from dtype float64 to the layer's dtype of float32, which is new behavior in TensorFlow 2.  The layer has dtype float32 because it's dtype defaults to floatx.\n",
      "\n",
      "If you intended to run this layer in float32, you can safely ignore this warning. If in doubt, this warning is likely only an issue if you are porting a TensorFlow 1.X model to TensorFlow 2.\n",
      "\n",
      "To change all layers to have dtype float64 by default, call `tf.keras.backend.set_floatx('float64')`. To change just this layer, pass dtype='float64' to the layer constructor. If you are the author of this layer, you can disable autocasting by passing autocast=False to the base Layer constructor.\n",
      "\n",
      "WARNING:tensorflow:Layer ntm_cell_23 is casting an input tensor from dtype float64 to the layer's dtype of float32, which is new behavior in TensorFlow 2.  The layer has dtype float32 because it's dtype defaults to floatx.\n",
      "\n",
      "If you intended to run this layer in float32, you can safely ignore this warning. If in doubt, this warning is likely only an issue if you are porting a TensorFlow 1.X model to TensorFlow 2.\n",
      "\n",
      "To change all layers to have dtype float64 by default, call `tf.keras.backend.set_floatx('float64')`. To change just this layer, pass dtype='float64' to the layer constructor. If you are the author of this layer, you can disable autocasting by passing autocast=False to the base Layer constructor.\n",
      "\n",
      "WARNING:tensorflow:Layer ntm_cell_24 is casting an input tensor from dtype float64 to the layer's dtype of float32, which is new behavior in TensorFlow 2.  The layer has dtype float32 because it's dtype defaults to floatx.\n",
      "\n",
      "If you intended to run this layer in float32, you can safely ignore this warning. If in doubt, this warning is likely only an issue if you are porting a TensorFlow 1.X model to TensorFlow 2.\n",
      "\n",
      "To change all layers to have dtype float64 by default, call `tf.keras.backend.set_floatx('float64')`. To change just this layer, pass dtype='float64' to the layer constructor. If you are the author of this layer, you can disable autocasting by passing autocast=False to the base Layer constructor.\n",
      "\n",
      "WARNING:tensorflow:Layer ntm_cell_25 is casting an input tensor from dtype float64 to the layer's dtype of float32, which is new behavior in TensorFlow 2.  The layer has dtype float32 because it's dtype defaults to floatx.\n",
      "\n",
      "If you intended to run this layer in float32, you can safely ignore this warning. If in doubt, this warning is likely only an issue if you are porting a TensorFlow 1.X model to TensorFlow 2.\n",
      "\n",
      "To change all layers to have dtype float64 by default, call `tf.keras.backend.set_floatx('float64')`. To change just this layer, pass dtype='float64' to the layer constructor. If you are the author of this layer, you can disable autocasting by passing autocast=False to the base Layer constructor.\n",
      "\n"
     ]
    }
   ],
   "source": [
    "output = inputs     #Please note you might need to change it\n",
    "state = init_state  #----------------\"\"----------------\n",
    "output_list_for_each_epoch = []\n",
    "states_list_for_each_epoch = []\n",
    "for i in range(10):\n",
    "    output, state = Model(output, state)\n",
    "    output_list_for_each_epoch.append(output)\n",
    "    states_list_for_each_epoch.append(state)"
   ]
  },
  {
   "cell_type": "code",
   "execution_count": 138,
   "metadata": {},
   "outputs": [],
   "source": [
    "inputs = inputs * 100"
   ]
  },
  {
   "cell_type": "code",
   "execution_count": 145,
   "metadata": {},
   "outputs": [],
   "source": [
    "inputs = np.array(inputs)"
   ]
  },
  {
   "cell_type": "code",
   "execution_count": 146,
   "metadata": {},
   "outputs": [],
   "source": [
    "inputs[inputs >1] = 1"
   ]
  },
  {
   "cell_type": "code",
   "execution_count": 147,
   "metadata": {},
   "outputs": [],
   "source": [
    "inputs[inputs<1] = 0"
   ]
  },
  {
   "cell_type": "code",
   "execution_count": 150,
   "metadata": {},
   "outputs": [],
   "source": [
    "inputs = tf.convert_to_tensor(inputs)"
   ]
  },
  {
   "cell_type": "code",
   "execution_count": 161,
   "metadata": {},
   "outputs": [
    {
     "data": {
      "text/plain": [
       "<matplotlib.image.AxesImage at 0x7f8ed4ff3110>"
      ]
     },
     "execution_count": 161,
     "metadata": {},
     "output_type": "execute_result"
    },
    {
     "data": {
      "image/png": "[encoded data removed]",
      "text/plain": [
       "<Figure size 432x288 with 1 Axes>"
      ]
     },
     "metadata": {
      "needs_background": "light"
     },
     "output_type": "display_data"
    }
   ],
   "source": [
    "plt.imshow(tf.transpose(inputs[0]))"
   ]
  },
  {
   "cell_type": "code",
   "execution_count": 158,
   "metadata": {
    "scrolled": true
   },
   "outputs": [
    {
     "name": "stdout",
     "output_type": "stream",
     "text": [
      "WARNING:tensorflow:Layer ntm_cell_26 is casting an input tensor from dtype float64 to the layer's dtype of float32, which is new behavior in TensorFlow 2.  The layer has dtype float32 because it's dtype defaults to floatx.\n",
      "\n",
      "If you intended to run this layer in float32, you can safely ignore this warning. If in doubt, this warning is likely only an issue if you are porting a TensorFlow 1.X model to TensorFlow 2.\n",
      "\n",
      "To change all layers to have dtype float64 by default, call `tf.keras.backend.set_floatx('float64')`. To change just this layer, pass dtype='float64' to the layer constructor. If you are the author of this layer, you can disable autocasting by passing autocast=False to the base Layer constructor.\n",
      "\n",
      "WARNING:tensorflow:Layer ntm_cell_27 is casting an input tensor from dtype float64 to the layer's dtype of float32, which is new behavior in TensorFlow 2.  The layer has dtype float32 because it's dtype defaults to floatx.\n",
      "\n",
      "If you intended to run this layer in float32, you can safely ignore this warning. If in doubt, this warning is likely only an issue if you are porting a TensorFlow 1.X model to TensorFlow 2.\n",
      "\n",
      "To change all layers to have dtype float64 by default, call `tf.keras.backend.set_floatx('float64')`. To change just this layer, pass dtype='float64' to the layer constructor. If you are the author of this layer, you can disable autocasting by passing autocast=False to the base Layer constructor.\n",
      "\n",
      "WARNING:tensorflow:Layer ntm_cell_28 is casting an input tensor from dtype float64 to the layer's dtype of float32, which is new behavior in TensorFlow 2.  The layer has dtype float32 because it's dtype defaults to floatx.\n",
      "\n",
      "If you intended to run this layer in float32, you can safely ignore this warning. If in doubt, this warning is likely only an issue if you are porting a TensorFlow 1.X model to TensorFlow 2.\n",
      "\n",
      "To change all layers to have dtype float64 by default, call `tf.keras.backend.set_floatx('float64')`. To change just this layer, pass dtype='float64' to the layer constructor. If you are the author of this layer, you can disable autocasting by passing autocast=False to the base Layer constructor.\n",
      "\n",
      "WARNING:tensorflow:Layer ntm_cell_29 is casting an input tensor from dtype float64 to the layer's dtype of float32, which is new behavior in TensorFlow 2.  The layer has dtype float32 because it's dtype defaults to floatx.\n",
      "\n",
      "If you intended to run this layer in float32, you can safely ignore this warning. If in doubt, this warning is likely only an issue if you are porting a TensorFlow 1.X model to TensorFlow 2.\n",
      "\n",
      "To change all layers to have dtype float64 by default, call `tf.keras.backend.set_floatx('float64')`. To change just this layer, pass dtype='float64' to the layer constructor. If you are the author of this layer, you can disable autocasting by passing autocast=False to the base Layer constructor.\n",
      "\n",
      "WARNING:tensorflow:Layer ntm_cell_30 is casting an input tensor from dtype float64 to the layer's dtype of float32, which is new behavior in TensorFlow 2.  The layer has dtype float32 because it's dtype defaults to floatx.\n",
      "\n",
      "If you intended to run this layer in float32, you can safely ignore this warning. If in doubt, this warning is likely only an issue if you are porting a TensorFlow 1.X model to TensorFlow 2.\n",
      "\n",
      "To change all layers to have dtype float64 by default, call `tf.keras.backend.set_floatx('float64')`. To change just this layer, pass dtype='float64' to the layer constructor. If you are the author of this layer, you can disable autocasting by passing autocast=False to the base Layer constructor.\n",
      "\n",
      "WARNING:tensorflow:Layer ntm_cell_31 is casting an input tensor from dtype float64 to the layer's dtype of float32, which is new behavior in TensorFlow 2.  The layer has dtype float32 because it's dtype defaults to floatx.\n",
      "\n",
      "If you intended to run this layer in float32, you can safely ignore this warning. If in doubt, this warning is likely only an issue if you are porting a TensorFlow 1.X model to TensorFlow 2.\n",
      "\n",
      "To change all layers to have dtype float64 by default, call `tf.keras.backend.set_floatx('float64')`. To change just this layer, pass dtype='float64' to the layer constructor. If you are the author of this layer, you can disable autocasting by passing autocast=False to the base Layer constructor.\n",
      "\n",
      "WARNING:tensorflow:Layer ntm_cell_32 is casting an input tensor from dtype float64 to the layer's dtype of float32, which is new behavior in TensorFlow 2.  The layer has dtype float32 because it's dtype defaults to floatx.\n",
      "\n",
      "If you intended to run this layer in float32, you can safely ignore this warning. If in doubt, this warning is likely only an issue if you are porting a TensorFlow 1.X model to TensorFlow 2.\n",
      "\n",
      "To change all layers to have dtype float64 by default, call `tf.keras.backend.set_floatx('float64')`. To change just this layer, pass dtype='float64' to the layer constructor. If you are the author of this layer, you can disable autocasting by passing autocast=False to the base Layer constructor.\n",
      "\n",
      "WARNING:tensorflow:Layer ntm_cell_33 is casting an input tensor from dtype float64 to the layer's dtype of float32, which is new behavior in TensorFlow 2.  The layer has dtype float32 because it's dtype defaults to floatx.\n",
      "\n",
      "If you intended to run this layer in float32, you can safely ignore this warning. If in doubt, this warning is likely only an issue if you are porting a TensorFlow 1.X model to TensorFlow 2.\n",
      "\n",
      "To change all layers to have dtype float64 by default, call `tf.keras.backend.set_floatx('float64')`. To change just this layer, pass dtype='float64' to the layer constructor. If you are the author of this layer, you can disable autocasting by passing autocast=False to the base Layer constructor.\n",
      "\n",
      "WARNING:tensorflow:Layer ntm_cell_34 is casting an input tensor from dtype float64 to the layer's dtype of float32, which is new behavior in TensorFlow 2.  The layer has dtype float32 because it's dtype defaults to floatx.\n",
      "\n",
      "If you intended to run this layer in float32, you can safely ignore this warning. If in doubt, this warning is likely only an issue if you are porting a TensorFlow 1.X model to TensorFlow 2.\n",
      "\n",
      "To change all layers to have dtype float64 by default, call `tf.keras.backend.set_floatx('float64')`. To change just this layer, pass dtype='float64' to the layer constructor. If you are the author of this layer, you can disable autocasting by passing autocast=False to the base Layer constructor.\n",
      "\n",
      "WARNING:tensorflow:Layer ntm_cell_35 is casting an input tensor from dtype float64 to the layer's dtype of float32, which is new behavior in TensorFlow 2.  The layer has dtype float32 because it's dtype defaults to floatx.\n",
      "\n",
      "If you intended to run this layer in float32, you can safely ignore this warning. If in doubt, this warning is likely only an issue if you are porting a TensorFlow 1.X model to TensorFlow 2.\n",
      "\n",
      "To change all layers to have dtype float64 by default, call `tf.keras.backend.set_floatx('float64')`. To change just this layer, pass dtype='float64' to the layer constructor. If you are the author of this layer, you can disable autocasting by passing autocast=False to the base Layer constructor.\n",
      "\n"
     ]
    }
   ],
   "source": [
    "output = inputs     #Please note you might need to change it\n",
    "state = init_state  #----------------\"\"----------------\n",
    "output_list_for_each_epoch = []\n",
    "states_list_for_each_epoch = []\n",
    "for i in range(10):\n",
    "    output, state = Model(output, state)\n",
    "    output_list_for_each_epoch.append(output)\n",
    "    states_list_for_each_epoch.append(state)"
   ]
  },
  {
   "cell_type": "code",
   "execution_count": 169,
   "metadata": {},
   "outputs": [
    {
     "data": {
      "text/plain": [
       "<matplotlib.image.AxesImage at 0x7f8ed1be5090>"
      ]
     },
     "execution_count": 169,
     "metadata": {},
     "output_type": "execute_result"
    },
    {
     "data": {
      "image/png": "[encoded data removed]",
      "text/plain": [
       "<Figure size 432x288 with 1 Axes>"
      ]
     },
     "metadata": {
      "needs_background": "light"
     },
     "output_type": "display_data"
    }
   ],
   "source": [
    "plt.imshow(tf.transpose(output[0]),interpolation='nearest')"
   ]
  },
  {
   "cell_type": "markdown",
   "metadata": {},
   "source": [
    "# Trying Something else"
   ]
  },
  {
   "cell_type": "code",
   "execution_count": 186,
   "metadata": {},
   "outputs": [],
   "source": [
    "state = cell.get_initial_state(batch_size=36)\n",
    "cell = NTMCell.NTMCell(100,128,20,1,1,8,shift_range=tf.range(1))\n",
    "all_outputs = []\n",
    "for t in range(timesteps):\n",
    "    output,state = cell(inputs[:,t,:],state)\n",
    "    all_outputs.append(output)"
   ]
  },
  {
   "cell_type": "code",
   "execution_count": 205,
   "metadata": {},
   "outputs": [
    {
     "data": {
      "text/plain": [
       "<matplotlib.image.AxesImage at 0x7f8ecdba7a10>"
      ]
     },
     "execution_count": 205,
     "metadata": {},
     "output_type": "execute_result"
    },
    {
     "data": {
      "image/png": "[encoded data removed]",
      "text/plain": [
       "<Figure size 432x288 with 1 Axes>"
      ]
     },
     "metadata": {
      "needs_background": "light"
     },
     "output_type": "display_data"
    }
   ],
   "source": [
    "plt.imshow(tf.transpose(all_outputs[19]))"
   ]
  },
  {
   "cell_type": "code",
   "execution_count": 206,
   "metadata": {},
   "outputs": [
    {
     "data": {
      "text/plain": [
       "<matplotlib.image.AxesImage at 0x7f8ecd123ed0>"
      ]
     },
     "execution_count": 206,
     "metadata": {},
     "output_type": "execute_result"
    },
    {
     "data": {
      "image/png": "[encoded data removed]",
      "text/plain": [
       "<Figure size 432x288 with 1 Axes>"
      ]
     },
     "metadata": {
      "needs_background": "light"
     },
     "output_type": "display_data"
    }
   ],
   "source": [
    "plt.imshow(tf.transpose(all_outputs[0]))"
   ]
  },
  {
   "cell_type": "code",
   "execution_count": null,
   "metadata": {},
   "outputs": [],
   "source": []
  }
 ],
 "metadata": {
  "kernelspec": {
   "display_name": "Python 3",
   "language": "python",
   "name": "python3"
  },
  "language_info": {
   "codemirror_mode": {
    "name": "ipython",
    "version": 3
   },
   "file_extension": ".py",
   "mimetype": "text/x-python",
   "name": "python",
   "nbconvert_exporter": "python",
   "pygments_lexer": "ipython3",
   "version": "3.7.4"
  }
 },
 "nbformat": 4,
 "nbformat_minor": 4
}
